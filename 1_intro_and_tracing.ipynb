{
 "cells": [
  {
   "cell_type": "markdown",
   "metadata": {},
   "source": [
    "# LLM Evals Workshop - by Weights & Biases\n",
    "\n",
    "## 1 - Tracing and Annotating\n",
    "[![Open In Colab](https://colab.research.google.com/assets/colab-badge.svg)](https://colab.research.google.com/github/altryne/llm-evals-workshop/blob/main/eval.ipynb) [![Weights & Biases](https://raw.githubusercontent.com/wandb/assets/main/wandb-github-badge-gradient.svg)](https://wandb.me/weave-workshop-jan)\n",
    "\n",
    "This notebook demonstrates how to create, run and track LLM evaluations using [W&B Weave](https://wandb.me/weave-workshop-jan). We'll explore different evaluation techniques and how to analyze the results.\n",
    "\n",
    "Make sure to set your WANDB_API_KEY (get your key from [here](https://wandb.ai/authorize)) and OPENAI_API_KEY or GEMINI_API_KEY in the environment variables.\n",
    "\n",
    "If you're running in Colab, set the variables in the keys section on the left. "
   ]
  },
  {
   "cell_type": "code",
   "execution_count": 1,
   "metadata": {},
   "outputs": [
    {
     "name": "stdout",
     "output_type": "stream",
     "text": [
      "⏳ Installing packages\n",
      "Note: you may need to restart the kernel to use updated packages.\n",
      "✅ Packages installed\n"
     ]
    }
   ],
   "source": [
    "# Install and read in required packages\n",
    "try:\n",
    "    import google.colab\n",
    "    !git clone -q --branch main https://github.com/altryne/llm-evals-workshop\n",
    "    %cd llm-evals-workshop\n",
    "except ImportError:\n",
    "    pass\n",
    "\n",
    "print('⏳ Installing packages')\n",
    "%pip install -q uv #TODO: alex figure this out\n",
    "!uv pip install -q --system weave gradio set-env-colab-kaggle-dotenv tqdm ipywidgets requests openai google-generativeai pillow\n",
    "print('✅ Packages installed')"
   ]
  }
 ],
 "metadata": {
  "kernelspec": {
   "display_name": "weave",
   "language": "python",
   "name": "python3"
  },
  "language_info": {
   "codemirror_mode": {
    "name": "ipython",
    "version": 3
   },
   "file_extension": ".py",
   "mimetype": "text/x-python",
   "name": "python",
   "nbconvert_exporter": "python",
   "pygments_lexer": "ipython3",
   "version": "3.10.15"
  }
 },
 "nbformat": 4,
 "nbformat_minor": 2
}
